{
 "cells": [
  {
   "cell_type": "markdown",
   "metadata": {},
   "source": [
    "# Reading Data"
   ]
  },
  {
   "cell_type": "code",
   "execution_count": 1,
   "metadata": {},
   "outputs": [],
   "source": [
    "import pandas as pd\n",
    "import numpy as np\n",
    "\n",
    "file_name = 'dataset/health_tweets_labeled.csv'\n",
    "df = pd.read_csv(file_name,encoding='ANSI')\n",
    "df_sample = pd.DataFrame(df)\n",
    "df.head()\n",
    "data = np.array(df.iloc[:,0])\n",
    "target = np.array(df.iloc[:,1])"
   ]
  },
  {
   "cell_type": "markdown",
   "metadata": {},
   "source": [
    "# Calculating Term-Document Incidence Matrix:"
   ]
  },
  {
   "cell_type": "code",
   "execution_count": 2,
   "metadata": {},
   "outputs": [
    {
     "data": {
      "text/plain": [
       "4860"
      ]
     },
     "execution_count": 2,
     "metadata": {},
     "output_type": "execute_result"
    }
   ],
   "source": [
    "from sklearn.feature_extraction.text import CountVectorizer\n",
    "\n",
    "# file_name = 'dataset/health_tweets_labeled.csv'\n",
    "# df = pd.read_csv(file_name,encoding='ANSI')\n",
    "\n",
    "vectorizer = CountVectorizer()\n",
    "x = vectorizer.fit_transform(df['tweet'].values.astype('U'))\n",
    "\n",
    "arr=x.toarray()\n",
    "vectorizer.vocabulary_.get('document')"
   ]
  },
  {
   "cell_type": "markdown",
   "metadata": {},
   "source": [
    "# TF-IDF"
   ]
  },
  {
   "cell_type": "code",
   "execution_count": 4,
   "metadata": {},
   "outputs": [],
   "source": [
    "from sklearn.feature_extraction.text import TfidfTransformer\n",
    "transformer = TfidfTransformer(smooth_idf=False)\n",
    "tfidf = transformer.fit_transform(arr)"
   ]
  },
  {
   "cell_type": "markdown",
   "metadata": {},
   "source": [
    "# KNeighbors"
   ]
  },
  {
   "cell_type": "code",
   "execution_count": 10,
   "metadata": {},
   "outputs": [
    {
     "data": {
      "text/plain": [
       "0.58"
      ]
     },
     "execution_count": 10,
     "metadata": {},
     "output_type": "execute_result"
    }
   ],
   "source": [
    "# print(tfidf)\n",
    "n = 50000\n",
    "from sklearn.neighbors import KNeighborsClassifier\n",
    "neigh = KNeighborsClassifier(n_neighbors=3)\n",
    "neigh.fit(arr[:n], target[:n]) \n",
    "\n",
    "import winsound as s\n",
    "s.Beep(1300,2000)\n",
    "neigh.score(arr[n:], target[n:])"
   ]
  },
  {
   "cell_type": "markdown",
   "metadata": {},
   "source": [
    "# Roccio "
   ]
  },
  {
   "cell_type": "code",
   "execution_count": 148,
   "metadata": {},
   "outputs": [
    {
     "name": "stdout",
     "output_type": "stream",
     "text": [
      "0.6408888888888888\n"
     ]
    }
   ],
   "source": [
    "from sklearn.neighbors.nearest_centroid import NearestCentroid\n",
    "from sklearn.model_selection import cross_val_score\n",
    "import numpy as np\n",
    "import winsound as s\n",
    "\n",
    "n=50000\n",
    "clf = NearestCentroid()\n",
    "clf.fit(arr[:n], target[:n])\n",
    "s.Beep(1300,2000)\n",
    "NearestCentroid(metric='euclidean', shrink_threshold=None)\n",
    "s.Beep(1300,2000)\n",
    "print(clf.score(arr[n:],target[n:]))\n",
    "s.Beep(1300,2000)\n",
    "scores = cross_val_score(clf, arr[n:], target[n:], cv=5)\n"
   ]
  },
  {
   "cell_type": "code",
   "execution_count": 149,
   "metadata": {},
   "outputs": [
    {
     "name": "stdout",
     "output_type": "stream",
     "text": [
      "[0.51664817 0.61965575 0.63166667 0.5397443  0.61679644]\n"
     ]
    }
   ],
   "source": [
    "print(scores)"
   ]
  },
  {
   "cell_type": "markdown",
   "metadata": {},
   "source": [
    "# Naive-bayes"
   ]
  },
  {
   "cell_type": "code",
   "execution_count": 3,
   "metadata": {},
   "outputs": [
    {
     "name": "stderr",
     "output_type": "stream",
     "text": [
      "C:\\Anaconda3\\lib\\site-packages\\sklearn\\naive_bayes.py:431: RuntimeWarning: divide by zero encountered in log\n",
      "  jointi = np.log(self.class_prior_[i])\n"
     ]
    },
    {
     "data": {
      "text/plain": [
       "0.4866666666666667"
      ]
     },
     "execution_count": 3,
     "metadata": {},
     "output_type": "execute_result"
    }
   ],
   "source": [
    "from sklearn.naive_bayes import GaussianNB\n",
    "# gnb = GaussianNB()\n",
    "# y_pred = gnb.fit(arr[:500], target[:500]).predict(arr[500:600])\n",
    "# print(\"Number of mislabeled points out of a total %d points : %d\"\n",
    "#       % (arr.shape[0],(target != y_pred).sum()))\n",
    "n=50000\n",
    "\n",
    "clf = GaussianNB()\n",
    "clf.fit(arr[:n], target[:n])\n",
    "clf.score(arr[n:],target[n:])\n",
    "clf_pf = GaussianNB()\n",
    "clf_pf.partial_fit(arr[:n], target[:n], np.unique(target))\n",
    "clf_pf.score(arr[n:],target[n:])"
   ]
  },
  {
   "cell_type": "code",
   "execution_count": null,
   "metadata": {},
   "outputs": [],
   "source": []
  }
 ],
 "metadata": {
  "kernelspec": {
   "display_name": "Python 3",
   "language": "python",
   "name": "python3"
  },
  "language_info": {
   "codemirror_mode": {
    "name": "ipython",
    "version": 3
   },
   "file_extension": ".py",
   "mimetype": "text/x-python",
   "name": "python",
   "nbconvert_exporter": "python",
   "pygments_lexer": "ipython3",
   "version": "3.6.5"
  }
 },
 "nbformat": 4,
 "nbformat_minor": 2
}
