{
 "cells": [
  {
   "cell_type": "code",
   "execution_count": 7,
   "metadata": {},
   "outputs": [],
   "source": [
    "import glob\n",
    "import sys\n",
    "import os\n",
    "import errno\n",
    "import pandas as pd"
   ]
  },
  {
   "cell_type": "code",
   "execution_count": 8,
   "metadata": {},
   "outputs": [],
   "source": [
    "path = \"SentenceCorpus/labeled_articles\"\n",
    "list_ = []\n",
    "files = glob.glob(path + \"/*.txt\")\n",
    "col = ['Labels', 'Words']\n",
    "for name in files:\n",
    "    df = pd.read_csv(name, sep =\"\\t\", names = col,header = None)\n",
    "    df = df[~df['Labels'].isin(['### abstract ###'])]\n",
    "    df = df[~df['Labels'].isin(['### introduction ###'])]\n",
    "    df = df[~df['Words'].isin(['NaN'])]\n",
    "    list_.append(df)"
   ]
  },
  {
   "cell_type": "code",
   "execution_count": 5,
   "metadata": {},
   "outputs": [],
   "source": [
    "frame = pd.DataFrame()\n",
    "frame = pd.concat(list_)"
   ]
  },
  {
   "cell_type": "code",
   "execution_count": 6,
   "metadata": {},
   "outputs": [
    {
     "name": "stdout",
     "output_type": "stream",
     "text": [
      "   Labels                                              Words\n",
      "0    MISC  The Minimum Description Length principle for o...\n",
      "1    MISC  If the underlying model class is discrete, the...\n",
      "2    MISC  For MDL, in general one can only have loss bou...\n",
      "3    AIMX  We show that this is even the case if the mode...\n",
      "4    OWNX  We derive a new upper bound on the prediction ...\n",
      "5    OWNX  This implies a small bound (comparable to the ...\n",
      "6    OWNX  We discuss the application to Machine Learning...\n",
      "7    MISC  ``Bayes mixture\", ``Solomonoff induction\", ``m...\n",
      "8    CONT  In many cases however, the Bayes mixture is co...\n",
      "9    MISC  The MDL or MAP (maximum a posteriori) estimato...\n",
      "10   MISC  In practice, the MDL estimator is usually bein...\n",
      "11   MISC  How good are the predictions by Bayes mixtures...\n",
      "12   MISC         This question has attracted much attention\n",
      "13   MISC  In many cases, an important quality measure is...\n",
      "14   MISC  In particular the square loss is often considered\n",
      "15   MISC  Assume that the outcome space is finite, and t...\n",
      "16   MISC  Then for Bayes mixture prediction, the cumulat...\n",
      "17   MISC  This corresponds to an  instantaneous  loss bo...\n",
      "18   MISC  For the MDL predictor, the losses behave simil...\n",
      "19   MISC  Note that in order to do MDL for continuous mo...\n",
      "20   MISC  On the other hand, if the model class is discr...\n",
      "21   MISC  The only necessary assumption is that the true...\n",
      "22   MISC  It has been demonstrated  CITATION , that for ...\n",
      "23   MISC  For MDL predictions in the proper learning cas...\n",
      "24   MISC  This bound is exponentially larger than the So...\n",
      "25   MISC  A finite bound on the total expected square lo...\n",
      "26   MISC  In contrast, an instantaneous loss bound of  S...\n",
      "27   MISC  Additionally, it gives a  convergence speed , ...\n",
      "28   MISC  So for both, Bayes mixtures and MDL, convergen...\n",
      "29   MISC  We avoid the term ``convergence rate\" here, si...\n",
      "..    ...                                                ...\n",
      "6    OWNX  The two-level method predicts usage of CXCR4 c...\n",
      "7    OWNX  Moreover, it is relatively robust against inse...\n",
      "8    OWNX  The approach could help clinicians to find opt...\n",
      "9    OWNX  For instance, it quantifies the importance for...\n",
      "10   MISC  Specific protein interactions are central to b...\n",
      "11   MISC  In the case of pathogenic viruses, such protei...\n",
      "12   MISC  An example of particularly high relevance is H...\n",
      "13   MISC  HIV-1 enters human cells in a process that com...\n",
      "14   MISC  The type of co-receptor used by the virus, the...\n",
      "15   MISC  In addition to the purely X4- and R5-tropic vi...\n",
      "16   MISC  Recently, the first drug that binds to CCR5, a...\n",
      "17   MISC  This has made the determination of co-receptor...\n",
      "18   MISC  The standard way of determining co-receptor tr...\n",
      "19   CONT  The main drawbacks of these assays are that th...\n",
      "20   MISC  These impediments to the wide application of e...\n",
      "21   MISC  This is a relatively fast and cheap standard p...\n",
      "22   MISC  At first glance, genotypic testing for co-rece...\n",
      "23   MISC  Unfortunately, as suggested by its name, V3 is...\n",
      "24   MISC  Nevertheless, the relevance of the quest has p...\n",
      "25   MISC  The importance of electrostatics for co-recept...\n",
      "26   CONT  This rule has a specificity of more than 0.9, ...\n",
      "27   MISC  To improve predictions from sequence, several ...\n",
      "28   CONT  Still, prediction accuracies fall short of wha...\n",
      "29   MISC  It is unclear whether the limited accuracies a...\n",
      "30   MISC  A milestone for the understanding of co-recept...\n",
      "31   MISC  This paved the way for the development of pred...\n",
      "32   MISC  To our knowledge, the first of these methods h...\n",
      "33   BASE  Although our method, detailed in the following...\n",
      "34   OWNX  By the latter we consider a seemingly trivial ...\n",
      "35   OWNX  The accuracy of the method makes it attractive...\n",
      "\n",
      "[3047 rows x 2 columns]\n"
     ]
    }
   ],
   "source": [
    "print(frame)"
   ]
  },
  {
   "cell_type": "code",
   "execution_count": 5,
   "metadata": {},
   "outputs": [
    {
     "name": "stdout",
     "output_type": "stream",
     "text": [
      "0     [The, Minimum, Description, Length, principle,...\n",
      "1     [If, the, underlying, model, class, is, discre...\n",
      "2     [For, MDL, in, general, one, can, only, have, ...\n",
      "3     [We, show, that, this, is, even, the, case, if...\n",
      "4     [We, derive, a, new, upper, bound, on, the, pr...\n",
      "5     [This, implies, a, small, bound, comparable, t...\n",
      "6     [We, discuss, the, application, to, Machine, L...\n",
      "7     [Bayes, mixture, Solomonoff, induction, margin...\n",
      "8     [In, many, cases, however, the, Bayes, mixture...\n",
      "9     [The, MDL, or, MAP, maximum, a, posteriori, es...\n",
      "10    [In, practice, the, MDL, estimator, is, usuall...\n",
      "11    [How, good, are, the, predictions, by, Bayes, ...\n",
      "12    [This, question, has, attracted, much, attention]\n",
      "13    [In, many, cases, an, important, quality, meas...\n",
      "14    [In, particular, the, square, loss, is, often,...\n",
      "15    [Assume, that, the, outcome, space, is, finite...\n",
      "16    [Then, for, Bayes, mixture, prediction, the, c...\n",
      "17    [This, corresponds, to, an, instantaneous, los...\n",
      "18    [For, the, MDL, predictor, the, losses, behave...\n",
      "19    [Note, that, in, order, to, do, MDL, for, cont...\n",
      "20    [On, the, other, hand, if, the, model, class, ...\n",
      "21    [The, only, necessary, assumption, is, that, t...\n",
      "22    [It, has, been, demonstrated, CITATION, that, ...\n",
      "23    [For, MDL, predictions, in, the, proper, learn...\n",
      "24    [This, bound, is, exponentially, larger, than,...\n",
      "25    [A, finite, bound, on, the, total, expected, s...\n",
      "26    [In, contrast, an, instantaneous, loss, bound,...\n",
      "27    [Additionally, it, gives, a, convergence, spee...\n",
      "28    [So, for, both, Bayes, mixtures, and, MDL, con...\n",
      "29    [We, avoid, the, term, convergence, rate, here...\n",
      "                            ...                        \n",
      "6     [The, twolevel, method, predicts, usage, of, C...\n",
      "7     [Moreover, it, is, relatively, robust, against...\n",
      "8     [The, approach, could, help, clinicians, to, f...\n",
      "9     [For, instance, it, quantifies, the, importanc...\n",
      "10    [Specific, protein, interactions, are, central...\n",
      "11    [In, the, case, of, pathogenic, viruses, such,...\n",
      "12    [An, example, of, particularly, high, relevanc...\n",
      "13    [HIV1, enters, human, cells, in, a, process, t...\n",
      "14    [The, type, of, coreceptor, used, by, the, vir...\n",
      "15    [In, addition, to, the, purely, X4, and, R5tro...\n",
      "16    [Recently, the, first, drug, that, binds, to, ...\n",
      "17    [This, has, made, the, determination, of, core...\n",
      "18    [The, standard, way, of, determining, corecept...\n",
      "19    [The, main, drawbacks, of, these, assays, are,...\n",
      "20    [These, impediments, to, the, wide, applicatio...\n",
      "21    [This, is, a, relatively, fast, and, cheap, st...\n",
      "22    [At, first, glance, genotypic, testing, for, c...\n",
      "23    [Unfortunately, as, suggested, by, its, name, ...\n",
      "24    [Nevertheless, the, relevance, of, the, quest,...\n",
      "25    [The, importance, of, electrostatics, for, cor...\n",
      "26    [This, rule, has, a, specificity, of, more, th...\n",
      "27    [To, improve, predictions, from, sequence, sev...\n",
      "28    [Still, prediction, accuracies, fall, short, o...\n",
      "29    [It, is, unclear, whether, the, limited, accur...\n",
      "30    [A, milestone, for, the, understanding, of, co...\n",
      "31    [This, paved, the, way, for, the, development,...\n",
      "32    [To, our, knowledge, the, first, of, these, me...\n",
      "33    [Although, our, method, detailed, in, the, fol...\n",
      "34    [By, the, latter, we, consider, a, seemingly, ...\n",
      "35    [The, accuracy, of, the, method, makes, it, at...\n",
      "Name: Words, Length: 3047, dtype: object\n"
     ]
    }
   ],
   "source": [
    "from nltk.corpus import stopwords\n",
    "from nltk.tokenize import sent_tokenize, word_tokenize\n",
    "stop = stopwords.words('english')\n",
    "frame.columns = frame.columns.str.strip()\n",
    "frame['Words'] = frame['Words'].str.replace('[^\\w\\s\\t]','')\n",
    "#Word tokenize\n",
    "frame[\"Words\"] = frame[\"Words\"].fillna(\"\").map(word_tokenize)\n",
    "print (frame['Words'])"
   ]
  },
  {
   "cell_type": "code",
   "execution_count": 6,
   "metadata": {},
   "outputs": [],
   "source": [
    "frame['Words'] = frame['Words'].apply(lambda x: [item for item in x if item not in stop])"
   ]
  },
  {
   "cell_type": "code",
   "execution_count": 7,
   "metadata": {},
   "outputs": [],
   "source": [
    "frame['Words']=[\" \".join(Words) for Words in frame['Words'].values]"
   ]
  },
  {
   "cell_type": "code",
   "execution_count": 8,
   "metadata": {},
   "outputs": [
    {
     "name": "stdout",
     "output_type": "stream",
     "text": [
      "(2437, 4117)\n",
      "(610, 4117)\n"
     ]
    }
   ],
   "source": [
    "from sklearn.model_selection import train_test_split\n",
    "#train test split dividing train test in 80% and 20%\n",
    "X_train, X_test, Y_train, Y_test = train_test_split(frame['Words'], frame['Labels'], test_size=0.2,random_state=50)\n",
    "from sklearn.feature_extraction.text import CountVectorizer, TfidfTransformer\n",
    "vectorizer = CountVectorizer()\n",
    "vectorizer.fit(X_train)\n",
    "train_mat = vectorizer.transform(X_train)\n",
    "print (train_mat.shape)\n",
    "test_mat = vectorizer.transform(X_test)\n",
    "print (test_mat.shape)"
   ]
  },
  {
   "cell_type": "code",
   "execution_count": 9,
   "metadata": {},
   "outputs": [
    {
     "name": "stdout",
     "output_type": "stream",
     "text": [
      "(2437, 4117)\n",
      "(610, 4117)\n"
     ]
    }
   ],
   "source": [
    "#Determining tf-idf\n",
    "tfidf = TfidfTransformer()\n",
    "tfidf.fit(train_mat)\n",
    "train_tfmat = tfidf.transform(train_mat)\n",
    "print (train_tfmat.shape)\n",
    "test_tfmat = tfidf.transform(test_mat)\n",
    "print (test_tfmat.shape)"
   ]
  },
  {
   "cell_type": "code",
   "execution_count": 10,
   "metadata": {},
   "outputs": [
    {
     "data": {
      "text/plain": [
       "MultinomialNB(alpha=1.0, class_prior=None, fit_prior=True)"
      ]
     },
     "execution_count": 10,
     "metadata": {},
     "output_type": "execute_result"
    }
   ],
   "source": [
    "#Naive Bayes\n",
    "from sklearn.naive_bayes import MultinomialNB\n",
    "clf = MultinomialNB()\n",
    "clf.fit(X = train_tfmat.toarray(), y = Y_train)"
   ]
  },
  {
   "cell_type": "code",
   "execution_count": 11,
   "metadata": {},
   "outputs": [],
   "source": [
    "predict = clf.predict(test_tfmat.toarray())"
   ]
  },
  {
   "cell_type": "code",
   "execution_count": 12,
   "metadata": {},
   "outputs": [
    {
     "name": "stdout",
     "output_type": "stream",
     "text": [
      "\n",
      "Accuracy of Naive Bayes:\n",
      "\n",
      "0.7950819672131147\n",
      "\n",
      "Confusion Matrix: \n",
      " [[  0   0   0  17  17   0]\n",
      " [  0   0   0   6   6   0]\n",
      " [  0   0   0  35   4   0]\n",
      " [  0   0   0 357   6   0]\n",
      " [  0   0   0  33 128   0]\n",
      " [  0   0   0   0   1   0]]\n"
     ]
    },
    {
     "data": {
      "image/png": "[encoded data removed]",
      "text/plain": [
       "<Figure size 288x288 with 2 Axes>"
      ]
     },
     "metadata": {},
     "output_type": "display_data"
    }
   ],
   "source": [
    "from sklearn.metrics import accuracy_score, confusion_matrix\n",
    "from matplotlib import style\n",
    "import matplotlib.pyplot as plt\n",
    "%matplotlib inline\n",
    "style.use('ggplot')\n",
    "\n",
    "accuracy = accuracy_score(Y_test, predict)\n",
    "#Accuracy\n",
    "print('\\nAccuracy of Naive Bayes:\\n')\n",
    "print (accuracy)\n",
    "conf_mat = confusion_matrix(Y_test, predict)\n",
    "print('\\nConfusion Matrix: \\n',conf_mat)\n",
    "plt.matshow(conf_mat)\n",
    "plt.title('Confusion Matrix for test Data\\t')\n",
    "plt.colorbar()\n",
    "plt.ylabel('True label')\n",
    "plt.xlabel('Predicted label')\n",
    "plt.show()"
   ]
  },
  {
   "cell_type": "code",
   "execution_count": 13,
   "metadata": {},
   "outputs": [
    {
     "data": {
      "text/plain": [
       "KNeighborsClassifier(algorithm='auto', leaf_size=30, metric='minkowski',\n",
       "           metric_params=None, n_jobs=-1, n_neighbors=5, p=2,\n",
       "           weights='uniform')"
      ]
     },
     "execution_count": 13,
     "metadata": {},
     "output_type": "execute_result"
    }
   ],
   "source": [
    "from sklearn.neighbors import KNeighborsClassifier\n",
    "clf_1 = KNeighborsClassifier(n_neighbors=5,algorithm='auto',n_jobs=-1)\n",
    "clf_1.fit(X = train_tfmat.toarray(), y = Y_train)"
   ]
  },
  {
   "cell_type": "code",
   "execution_count": 14,
   "metadata": {},
   "outputs": [],
   "source": [
    "predict_1 = clf_1.predict(test_tfmat.toarray())"
   ]
  },
  {
   "cell_type": "code",
   "execution_count": 15,
   "metadata": {},
   "outputs": [
    {
     "name": "stdout",
     "output_type": "stream",
     "text": [
      "\n",
      "Accuracy of KNN:\n",
      "\n",
      "0.7360655737704918\n",
      "\n",
      "Confusion Matrix: \n",
      " [[ 17   2   1   1   9   4   0]\n",
      " [  0   0   0   0   0   0   0]\n",
      " [  1   0   2   0   3   6   0]\n",
      " [  2   0   1  13  21   2   0]\n",
      " [ 13   0   5  16 313  16   0]\n",
      " [ 10   0   3   3  41 104   0]\n",
      " [  0   0   0   0   0   1   0]]\n"
     ]
    },
    {
     "data": {
      "image/png": "[encoded data removed]",
      "text/plain": [
       "<Figure size 288x288 with 2 Axes>"
      ]
     },
     "metadata": {},
     "output_type": "display_data"
    }
   ],
   "source": [
    "# KNN\n",
    "accuracy_1 = accuracy_score(Y_test, predict_1)\n",
    "print('\\nAccuracy of KNN:\\n')\n",
    "print (accuracy_1)\n",
    "conf_mat_1 = confusion_matrix(Y_test, predict_1)\n",
    "print('\\nConfusion Matrix: \\n',conf_mat_1)\n",
    "plt.matshow(conf_mat_1)\n",
    "plt.title('Confusion Matrix for Test Data\\t')\n",
    "plt.colorbar()\n",
    "plt.ylabel('True label')\n",
    "plt.xlabel('Predicted label')\n",
    "plt.show()"
   ]
  },
  {
   "cell_type": "code",
   "execution_count": 16,
   "metadata": {},
   "outputs": [],
   "source": [
    "from sklearn.neighbors import NearestCentroid"
   ]
  },
  {
   "cell_type": "code",
   "execution_count": 17,
   "metadata": {},
   "outputs": [],
   "source": [
    "clf_2 = NearestCentroid()"
   ]
  },
  {
   "cell_type": "code",
   "execution_count": 18,
   "metadata": {},
   "outputs": [
    {
     "data": {
      "text/plain": [
       "NearestCentroid(metric='euclidean', shrink_threshold=None)"
      ]
     },
     "execution_count": 18,
     "metadata": {},
     "output_type": "execute_result"
    }
   ],
   "source": [
    "clf_2.fit(train_tfmat.toarray(), Y_train)"
   ]
  },
  {
   "cell_type": "code",
   "execution_count": 19,
   "metadata": {},
   "outputs": [],
   "source": [
    "predict_2 = clf_2.predict(test_tfmat.toarray())"
   ]
  },
  {
   "cell_type": "code",
   "execution_count": 20,
   "metadata": {},
   "outputs": [
    {
     "name": "stdout",
     "output_type": "stream",
     "text": [
      "\n",
      "Accuracy of Rochio:\n",
      "\n",
      "0.6967213114754098\n",
      "\n",
      "Confusion Matrix: \n",
      " [[ 21   0   1   4   0   7   0   1]\n",
      " [  0   0   0   0   0   0   0   0]\n",
      " [  0   0   7   1   3   1   0   0]\n",
      " [  0   2   1  18  14   4   0   0]\n",
      " [  3  46   1  19 264  30   0   0]\n",
      " [  2  18   3  11  12 115   0   0]\n",
      " [  0   0   0   0   0   1   0   0]\n",
      " [  0   0   0   0   0   0   0   0]]\n"
     ]
    },
    {
     "data": {
      "image/png": "[encoded data removed]",
      "text/plain": [
       "<Figure size 288x288 with 2 Axes>"
      ]
     },
     "metadata": {},
     "output_type": "display_data"
    }
   ],
   "source": [
    "#Rocchio\n",
    "accuracy_2 = accuracy_score(Y_test, predict_2)\n",
    "print('\\nAccuracy of Rochio:\\n')\n",
    "print (accuracy_2)\n",
    "conf_mat_2 = confusion_matrix(Y_test, predict_2)\n",
    "print('\\nConfusion Matrix: \\n',conf_mat_2)\n",
    "plt.matshow(conf_mat_1)\n",
    "plt.title('Confusion Matrix for Test Data\\t')\n",
    "plt.colorbar()\n",
    "plt.ylabel('True label')\n",
    "plt.xlabel('Predicted label')\n",
    "plt.show()"
   ]
  },
  {
   "cell_type": "code",
   "execution_count": null,
   "metadata": {},
   "outputs": [],
   "source": []
  }
 ],
 "metadata": {
  "kernelspec": {
   "display_name": "Python 3",
   "language": "python",
   "name": "python3"
  },
  "language_info": {
   "codemirror_mode": {
    "name": "ipython",
    "version": 3
   },
   "file_extension": ".py",
   "mimetype": "text/x-python",
   "name": "python",
   "nbconvert_exporter": "python",
   "pygments_lexer": "ipython3",
   "version": "3.6.5"
  }
 },
 "nbformat": 4,
 "nbformat_minor": 2
}
